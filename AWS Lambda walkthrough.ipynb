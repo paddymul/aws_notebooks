{
 "cells": [
  {
   "cell_type": "code",
   "execution_count": 1,
   "metadata": {},
   "outputs": [
    {
     "name": "stdout",
     "output_type": "stream",
     "text": [
      "mkdir: simple_lambda: File exists\n",
      "\u001b[31mcreate_function.bash\u001b[m\u001b[m      function.zip              simple_lambda_function.py\n"
     ]
    }
   ],
   "source": [
    "#NOTE TO Proofreaders, these are cleanup functions that won't be in the final product\n",
    "!mkdir simple_lambda\n",
    "!ls simple_lambda\n",
    "!aws lambda delete-function --function-name simple_lambda_function\n",
    "!aws lambda delete-function --function-name pil_lambda_function\n",
    "!aws lambda delete-function --function-name sklearn_lambda_function\n",
    "!rm -rf simple_package\n",
    "!rm -rf sklearn_package/*"
   ]
  },
  {
   "cell_type": "markdown",
   "metadata": {},
   "source": [
    "# Deploying the PyData stack onto AWS Lambda\n",
    "\n",
    "AWS Lambda is a serverless stack from Amazon.  It allows you to have functions that run without needing to maintain a running server.  Lambda functions can be triggered from web requests, SQS, Kenisis, and a variety of other events.  Constructing apps with Lambda functions allows you to easily scale without worrying about spinning up servers.\n",
    "\n",
    "AWS Lambda has a well known package size limit of 50MB, which can be expanded to 500MB through some hacks.  I hadn't thought it was possible to easily deploy functions that depended on the PyData stack (pandas, numpy, scikit-learn...) because of these size limitations.  In this notebook I wal through\n",
    "\n",
    "* a simple lambda deployment with no dependencies\n",
    "* a reqular packaged lambda deployment\n",
    "* individual steps necessary to dpeloy the PyData stack\n",
    "* a clean scripted PyData deploy"
   ]
  },
  {
   "cell_type": "markdown",
   "metadata": {},
   "source": [
    "## Implementation notes about this notebook\n",
    "I use the python magics of `%%writefile` and `%%bash` extensively.  `%%writefile` allows me to write the lambda functions and bash scripts inline.  `%%bash` allows multiline shell examples.\n",
    "\n",
    "In a serious dpeloyment system these bash scripts would probably be integrated into Ansible, Chef, or Puppet.  The aws python api could also be used to accomplish the same tasks.  Using the AWS CLI tools through bash is the most straight forward way of experimenting with the lambda platform\n"
   ]
  },
  {
   "cell_type": "markdown",
   "metadata": {},
   "source": [
    "## Running this notebook.\n",
    "\n",
    "The code examples assume a properly configured AWS CLI environment.  The user for the AWS CLI environment must have access to create Lambda functions.  This tutorial also assumes an environment variable AWS_ID with your AWS user_id.  There are scripts integrated which use this variable, and replace the actual account number with \"AWS_ID\" from the output for privacy.\n",
    "\n",
    "Some bash commands especially towards the end take a while to run, I have used `time` before these commands.\n",
    "\n",
    "Finally, running these commands will generate AWS charges, but they should be minimal."
   ]
  },
  {
   "cell_type": "code",
   "execution_count": 99,
   "metadata": {},
   "outputs": [
    {
     "name": "stdout",
     "output_type": "stream",
     "text": [
      "Overwriting aws_sanitize\n"
     ]
    }
   ],
   "source": [
    "%%writefile aws_sanitize\n",
    "#!/bin/bash\n",
    "#this is used to prevent my aws_id leaking into public\n",
    "#I'm not completely clear why protecting my account number is necessary for security\n",
    "#but all tutorials do it, so I will too.\n",
    "replace='$AWS_ID'\n",
    "sed -e \"s/$AWS_ID/$replace/\""
   ]
  },
  {
   "cell_type": "code",
   "execution_count": 100,
   "metadata": {},
   "outputs": [],
   "source": [
    "!chmod +x ./aws_sanitize"
   ]
  },
  {
   "cell_type": "markdown",
   "metadata": {},
   "source": [
    "## Simple Lambda Function"
   ]
  },
  {
   "cell_type": "code",
   "execution_count": 3,
   "metadata": {},
   "outputs": [
    {
     "name": "stdout",
     "output_type": "stream",
     "text": [
      "Overwriting simple_lambda/simple_lambda_function.py\n"
     ]
    }
   ],
   "source": [
    "%%writefile simple_lambda/simple_lambda_function.py\n",
    "import json\n",
    "\n",
    "def lambda_handler(event, context):\n",
    "    return {\n",
    "        'statusCode': 205,\n",
    "        'body': json.dumps({'event':event, 'context': dir(context),\n",
    "                            'func_name': 'simpole_lambda_function'})}"
   ]
  },
  {
   "cell_type": "code",
   "execution_count": 5,
   "metadata": {},
   "outputs": [
    {
     "name": "stdout",
     "output_type": "stream",
     "text": [
      "updating: simple_lambda_function.py (deflated 36%)\n",
      "{\n",
      "    \"FunctionName\": \"simple_lambda_function\",\n",
      "    \"FunctionArn\": \"arn:aws:lambda:us-east-2:$AWS_ID:function:simple_lambda_function\",\n",
      "    \"Runtime\": \"python3.7\",\n",
      "    \"Role\": \"arn:aws:iam::$AWS_ID:role/service-role/aws_lambda_role\",\n",
      "    \"Handler\": \"simple_lambda_function.lambda_handler\",\n",
      "    \"CodeSize\": 345,\n",
      "    \"Description\": \"\",\n",
      "    \"Timeout\": 3,\n",
      "    \"MemorySize\": 128,\n",
      "    \"LastModified\": \"2019-03-31T04:22:26.604+0000\",\n",
      "    \"CodeSha256\": \"3WAwFFRpNc/hkpLnheTZdmeZ2e4N3t4/qap8RdE7HLA=\",\n",
      "    \"Version\": \"$LATEST\",\n",
      "    \"TracingConfig\": {\n",
      "        \"Mode\": \"PassThrough\"\n",
      "    },\n",
      "    \"RevisionId\": \"9d56b3f7-bc0b-4fd2-9f9a-d3d0238205db\"\n",
      "}\n"
     ]
    }
   ],
   "source": [
    "%%bash\n",
    "cd simple_lambda\n",
    "zip function.zip simple_lambda_function.py\n",
    "aws lambda create-function \\\n",
    "        --function-name simple_lambda_function \\\n",
    "        --handler simple_lambda_function.lambda_handler \\\n",
    "        --zip-file fileb://function.zip \\\n",
    "        --runtime python3.7 \\\n",
    "        --role \"arn:aws:iam::$AWS_ID:role/service-role/aws_lambda_role\" | ../aws_sanitize"
   ]
  },
  {
   "cell_type": "markdown",
   "metadata": {},
   "source": [
    "### Let's test the function"
   ]
  },
  {
   "cell_type": "code",
   "execution_count": 6,
   "metadata": {},
   "outputs": [
    {
     "name": "stdout",
     "output_type": "stream",
     "text": [
      "{\"statusCode\": 205, \"body\": \"{\\\"event\\\": {}, \\\"context\\\": [\\\"__class__\\\", \\\"__delattr__\\\", \\\"__dict__\\\", \\\"__dir__\\\", \\\"__doc__\\\", \\\"__eq__\\\", \\\"__format__\\\", \\\"__ge__\\\", \\\"__getattribute__\\\", \\\"__gt__\\\", \\\"__hash__\\\", \\\"__init__\\\", \\\"__init_subclass__\\\", \\\"__le__\\\", \\\"__lt__\\\", \\\"__module__\\\", \\\"__ne__\\\", \\\"__new__\\\", \\\"__reduce__\\\", \\\"__reduce_ex__\\\", \\\"__repr__\\\", \\\"__setattr__\\\", \\\"__sizeof__\\\", \\\"__str__\\\", \\\"__subclasshook__\\\", \\\"__weakref__\\\", \\\"_epoch_deadline_time_in_ms\\\", \\\"aws_request_id\\\", \\\"client_context\\\", \\\"function_name\\\", \\\"function_version\\\", \\\"get_remaining_time_in_millis\\\", \\\"identity\\\", \\\"invoked_function_arn\\\", \\\"log\\\", \\\"log_group_name\\\", \\\"log_stream_name\\\", \\\"memory_limit_in_mb\\\"], \\\"func_name\\\": \\\"simpole_lambda_function\\\"}\"}\n"
     ]
    }
   ],
   "source": [
    "%%bash\n",
    "aws lambda invoke \\\n",
    "    --function-name \"simple_lambda_function\" \\\n",
    "    --log-type Tail  --invocation-type  RequestResponse slf.out > /dev/null\n",
    "cat slf.out  | ./aws_sanitize"
   ]
  },
  {
   "cell_type": "markdown",
   "metadata": {},
   "source": [
    "## Simple Package"
   ]
  },
  {
   "cell_type": "code",
   "execution_count": 7,
   "metadata": {},
   "outputs": [],
   "source": [
    "!mkdir simple_package"
   ]
  },
  {
   "cell_type": "code",
   "execution_count": 95,
   "metadata": {},
   "outputs": [
    {
     "name": "stdout",
     "output_type": "stream",
     "text": [
      "Overwriting simple_package/package_lambda_function.py\n"
     ]
    }
   ],
   "source": [
    "%%writefile simple_package/package_lambda_function.py\n",
    "import json\n",
    "import requests\n",
    "\n",
    "def lambda_handler(event, context):\n",
    "    resp = requests.get(\"https://www.google.com\")\n",
    "    resp_len = len(resp.content)\n",
    "    return {'resp_len': resp_len}"
   ]
  },
  {
   "cell_type": "code",
   "execution_count": 9,
   "metadata": {},
   "outputs": [
    {
     "name": "stdout",
     "output_type": "stream",
     "text": [
      "  Using cached https://files.pythonhosted.org/packages/60/75/f692a584e85b7eaba0e03827b3d51f45f571c2e793dd731e598828d380aa/certifi-2019.3.9-py2.py3-none-any.whl\n",
      "Collecting urllib3<1.25,>=1.21.1 (from requests)\n",
      "  Using cached https://files.pythonhosted.org/packages/62/00/ee1d7de624db8ba7090d1226aebefab96a2c71cd5cfa7629d6ad3f61b79e/urllib3-1.24.1-py2.py3-none-any.whl\n",
      "Installing collected packages: idna, chardet, certifi, urllib3, requests\n",
      "Successfully installed certifi-2019.3.9 chardet-3.0.4 idna-2.8 requests-2.21.0 urllib3-1.24.1\n",
      "  adding: urllib3-1.24.1.dist-info/LICENSE.txt (deflated 41%)\n",
      "  adding: urllib3-1.24.1.dist-info/METADATA (deflated 64%)\n",
      "  adding: urllib3-1.24.1.dist-info/RECORD (deflated 62%)\n",
      "  adding: urllib3-1.24.1.dist-info/top_level.txt (stored 0%)\n",
      "  adding: urllib3-1.24.1.dist-info/WHEEL (deflated 14%)\n",
      "  adding: package_lambda_function.py (deflated 36%)\n",
      "{\n",
      "    \"FunctionName\": \"pil_lambda_function\",\n",
      "    \"FunctionArn\": \"arn:aws:lambda:us-east-2:$AWS_ID:function:pil_lambda_function\",\n",
      "    \"Runtime\": \"python3.7\",\n",
      "    \"Role\": \"arn:aws:iam::$AWS_ID:role/service-role/aws_lambda_role\",\n",
      "    \"Handler\": \"package_lambda_function.lambda_handler\",\n",
      "    \"CodeSize\": 901058,\n",
      "    \"Description\": \"\",\n",
      "    \"Timeout\": 3,\n",
      "    \"MemorySize\": 128,\n",
      "    \"LastModified\": \"2019-03-31T04:22:36.665+0000\",\n",
      "    \"CodeSha256\": \"s/5q+NQTuJtF0HtYWkWqn/y0uvzOY8MzyyVOlULueaQ=\",\n",
      "    \"Version\": \"$LATEST\",\n",
      "    \"TracingConfig\": {\n",
      "        \"Mode\": \"PassThrough\"\n",
      "    },\n",
      "    \"RevisionId\": \"ed7354f8-b943-4114-aab3-dcda4b3b19ba\"\n",
      "}\n"
     ]
    }
   ],
   "source": [
    "%%bash\n",
    "cd simple_package\n",
    "pip install requests --target .  2>&1 | tail -n 5\n",
    "zip -r9 ./package_function.zip ./* | tail -n 5\n",
    "aws lambda create-function \\\n",
    "        --function-name pil_lambda_function \\\n",
    "        --handler package_lambda_function.lambda_handler \\\n",
    "        --zip-file fileb://package_function.zip \\\n",
    "        --runtime python3.7 \\\n",
    "        --role \"arn:aws:iam::$AWS_ID:role/service-role/aws_lambda_role\" | ../aws_sanitize"
   ]
  },
  {
   "cell_type": "markdown",
   "metadata": {},
   "source": [
    "### Let's make a script to invoke the lambda function"
   ]
  },
  {
   "cell_type": "code",
   "execution_count": 67,
   "metadata": {},
   "outputs": [
    {
     "name": "stdout",
     "output_type": "stream",
     "text": [
      "Overwriting run_function\n"
     ]
    }
   ],
   "source": [
    "%%writefile run_function\n",
    "#!/bin/bash\n",
    "aws lambda invoke \\\n",
    "    --function-name $1 \\\n",
    "    --log-type Tail  --invocation-type  RequestResponse slf.out > /dev/null\n",
    "cat slf.out  | ./aws_sanitize"
   ]
  },
  {
   "cell_type": "code",
   "execution_count": 11,
   "metadata": {},
   "outputs": [
    {
     "name": "stdout",
     "output_type": "stream",
     "text": [
      "{\"statusCode\": 205, \"body\": \"{\\\"event\\\": {}, \\\"context\\\": [\\\"__class__\\\", \\\"__delattr__\\\", \\\"__dict__\\\", \\\"__dir__\\\", \\\"__doc__\\\", \\\"__eq__\\\", \\\"__format__\\\", \\\"__ge__\\\", \\\"__getattribute__\\\", \\\"__gt__\\\", \\\"__hash__\\\", \\\"__init__\\\", \\\"__init_subclass__\\\", \\\"__le__\\\", \\\"__lt__\\\", \\\"__module__\\\", \\\"__ne__\\\", \\\"__new__\\\", \\\"__reduce__\\\", \\\"__reduce_ex__\\\", \\\"__repr__\\\", \\\"__setattr__\\\", \\\"__sizeof__\\\", \\\"__str__\\\", \\\"__subclasshook__\\\", \\\"__weakref__\\\", \\\"_epoch_deadline_time_in_ms\\\", \\\"aws_request_id\\\", \\\"client_context\\\", \\\"function_name\\\", \\\"function_version\\\", \\\"get_remaining_time_in_millis\\\", \\\"identity\\\", \\\"invoked_function_arn\\\", \\\"log\\\", \\\"log_group_name\\\", \\\"log_stream_name\\\", \\\"memory_limit_in_mb\\\"], \\\"func_name\\\": \\\"package_lambda_function\\\"}\"}\r\n"
     ]
    }
   ],
   "source": [
    "!chmod +x run_function\n",
    "!./run_function pil_lambda_function"
   ]
  },
  {
   "cell_type": "markdown",
   "metadata": {},
   "source": [
    "## PyData Package with Pandas and Scikit-Learn"
   ]
  },
  {
   "cell_type": "code",
   "execution_count": 44,
   "metadata": {},
   "outputs": [],
   "source": [
    "!mkdir sklearn_package"
   ]
  },
  {
   "cell_type": "code",
   "execution_count": 34,
   "metadata": {},
   "outputs": [
    {
     "name": "stdout",
     "output_type": "stream",
     "text": [
      "Writing sklearn_package/package_lambda_function.py\n"
     ]
    }
   ],
   "source": [
    "%%writefile sklearn_package/package_lambda_function.py\n",
    "import json\n",
    "import pandas\n",
    "import sklearn\n",
    "\n",
    "def lambda_handler(event, context):\n",
    "    return {\n",
    "        'statusCode': 205,\n",
    "        'body': json.dumps({'event':event, 'context': dir(context),\n",
    "                            'func_name': 'package_lambda_function'})}"
   ]
  },
  {
   "cell_type": "code",
   "execution_count": 35,
   "metadata": {},
   "outputs": [
    {
     "name": "stdout",
     "output_type": "stream",
     "text": [
      "  Using cached https://files.pythonhosted.org/packages/3e/7e/5cee36eee5b3194687232f6150a89a38f784883c612db7f4da2ab190980d/scipy-1.2.1-cp37-cp37m-manylinux1_x86_64.whl\n",
      "Collecting six>=1.5 (from python-dateutil>=2.5.0->pandas)\n",
      "  Using cached https://files.pythonhosted.org/packages/73/fb/00a976f728d0d1fecfe898238ce23f502a721c0ac0ecfedb80e0d88c64e9/six-1.12.0-py2.py3-none-any.whl\n",
      "Installing collected packages: pytz, numpy, six, python-dateutil, pandas, scipy, scikit-learn\n",
      "Successfully installed numpy-1.16.2 pandas-0.24.2 python-dateutil-2.8.0 pytz-2018.9 scikit-learn-0.20.3 scipy-1.2.1 six-1.12.0\n"
     ]
    }
   ],
   "source": [
    "%%bash\n",
    "#note the extra options to force linux packages even if you are on OS X\n",
    "pip install pandas scikit-learn \\\n",
    "        --platform manylinux1_x86_64\\\n",
    "        --python-version 37 \\\n",
    "        --only-binary=:all:  --target sklearn_package 2>&1 | tail -n 5"
   ]
  },
  {
   "cell_type": "code",
   "execution_count": 36,
   "metadata": {},
   "outputs": [
    {
     "name": "stdout",
     "output_type": "stream",
     "text": [
      "  adding: sklearn/utils/tests/test_sparsefuncs.py (deflated 84%)\n",
      "  adding: sklearn/utils/tests/test_stats.py (deflated 58%)\n",
      "  adding: sklearn/utils/tests/test_testing.py (deflated 80%)\n",
      "  adding: sklearn/utils/tests/test_utils.py (deflated 73%)\n",
      "  adding: sklearn/utils/tests/test_validation.py (deflated 77%)\n",
      "  adding: sklearn/utils/validation.py (deflated 74%)\n",
      "  adding: sklearn/utils/weight_vector.cpython-37m-x86_64-linux-gnu.so (deflated 58%)\n"
     ]
    }
   ],
   "source": [
    "%%bash\n",
    "cd sklearn_package\n",
    "zip -r9 sklearn_package.zip ./ | tail -n 3"
   ]
  },
  {
   "cell_type": "code",
   "execution_count": 37,
   "metadata": {},
   "outputs": [
    {
     "name": "stderr",
     "output_type": "stream",
     "text": [
      "\n",
      "Connection was closed before we received a valid response from endpoint URL: \"https://lambda.us-east-2.amazonaws.com/2015-03-31/functions\".\n",
      "\n",
      "real\t5m14.732s\n",
      "user\t0m4.530s\n",
      "sys\t0m3.997s\n"
     ]
    }
   ],
   "source": [
    "%%bash\n",
    "cd sklearn_package\n",
    "time aws lambda create-function \\\n",
    "        --function-name sklearn_lambda_function \\\n",
    "        --handler package_lambda_function.lambda_handler \\\n",
    "        --zip-file fileb://sklearn_package.zip \\\n",
    "        --runtime python3.7 \\\n",
    "        --role \"arn:aws:iam::$AWS_ID:role/service-role/aws_lambda_role\" | ../aws_sanitize"
   ]
  },
  {
   "cell_type": "markdown",
   "metadata": {},
   "source": [
    "## the above failed because the pacakge was too big\n",
    "Instead we have to upload the package to s3, then point he lambda function at the s3 package"
   ]
  },
  {
   "cell_type": "code",
   "execution_count": 41,
   "metadata": {},
   "outputs": [
    {
     "name": "stdout",
     "output_type": "stream",
     "text": [
      "{\n",
      "    \"FunctionName\": \"pandas_sklearn_demo2\",\n",
      "    \"FunctionArn\": \"arn:aws:lambda:us-east-2:$AWS_ID:function:pandas_sklearn_demo2\",\n",
      "    \"Runtime\": \"python3.7\",\n",
      "    \"Role\": \"arn:aws:iam::$AWS_ID:role/service-role/aws_lambda_role\",\n",
      "    \"Handler\": \"pandas_sklearn_demo.lambda_handler\",\n",
      "    \"CodeSize\": 70547257,\n",
      "    \"Description\": \"\",\n",
      "    \"Timeout\": 3,\n",
      "    \"MemorySize\": 128,\n",
      "    \"LastModified\": \"2019-04-03T00:45:21.232+0000\",\n",
      "    \"CodeSha256\": \"QkXoj0DXvQJ3kk5RhPbUfUWuWvtE4m7xXlI8qAW9/7s=\",\n",
      "    \"Version\": \"$LATEST\",\n",
      "    \"TracingConfig\": {\n",
      "        \"Mode\": \"PassThrough\"\n",
      "    },\n",
      "    \"RevisionId\": \"f2fd6408-96b0-46b7-91ab-67e0d2a920f9\"\n",
      "}\n"
     ]
    },
    {
     "name": "stderr",
     "output_type": "stream",
     "text": [
      "\n",
      "real\t0m11.197s\n",
      "user\t0m0.490s\n",
      "sys\t0m0.094s\n"
     ]
    }
   ],
   "source": [
    "%%bash\n",
    "cd sklearn_package\n",
    "aws s3 mb s3://pandas-sklearn-demo  2>&1 > /dev/null\n",
    "time aws s3 cp sklearn_package/sklearn_package.zip s3://pandas-sklearn-demo/sklearn_package.zip\n",
    "aws lambda update-function-code \\\n",
    "        --function-name pandas_sklearn_demo2 \\\n",
    "        --s3-bucket pandas-sklearn-demo \\\n",
    "        --s3-key sklearn_package.zip | ../aws_sanitize\n"
   ]
  },
  {
   "cell_type": "code",
   "execution_count": 82,
   "metadata": {},
   "outputs": [
    {
     "name": "stdout",
     "output_type": "stream",
     "text": [
      "Overwriting create_lambda\n"
     ]
    }
   ],
   "source": [
    "%%writefile create_lambda\n",
    "#!/bin/bash\n",
    "\n",
    "#note function name must be the same as the module name\n",
    "function_name=$1\n",
    "ver_number=$2\n",
    "package_zip=$3\n",
    "\n",
    "ver_name=\"${function_name}_${ver_number}\"\n",
    "mod_file=\"${function_name}.py\"\n",
    "mod_name=$function_name\n",
    "handler_name=\"${mod_name}.lambda_handler\"\n",
    "empty_zip_file=/tmp/empty.zip\n",
    "bucket_zip=\"${versioned_name}.zip\"\n",
    "\n",
    "zip_file=/tmp/function.zip\n",
    "cp $package_zip $zip_file\n",
    "zip $zip_file $mod_file\n",
    "zip $empty_zip_file $mod_file\n",
    "\n",
    "#we use the empty_zip file because this will fail with a larger zip and the s3 upload will have to be run again\n",
    "#anyway,  this will save some time.\n",
    "aws lambda create-function --function-name $ver_name \\\n",
    "           --zip-file fileb://$empty_zip_file  --handler $handler_name\\\n",
    "           --runtime python3.7 \\\n",
    "           --role \"arn:aws:iam::$AWS_ID:role/service-role/aws_lambda_role\" > /dev/null\n",
    "\n",
    "#this bucket is hardcoded.  this can probably be improved upon\n",
    "#aws s3 mb s3://pandas-sklearn-demo  2>&1 > /dev/null\n",
    "aws s3 cp $zip_file  s3://pandas-sklearn-demo/$bucket_zip\n",
    "\n",
    "aws lambda update-function-code \\\n",
    "        --s3-bucket pandas-sklearn-demo \\\n",
    "        --s3-key $bucket_zip \\\n",
    "        --function-name $ver_name | ./aws_sanitize\n",
    "\n",
    "./run_function $ver_name"
   ]
  },
  {
   "cell_type": "code",
   "execution_count": 52,
   "metadata": {},
   "outputs": [
    {
     "name": "stdout",
     "output_type": "stream",
     "text": [
      "  adding: sklearn/utils/tests/test_validation.py (deflated 77%)\n",
      "  adding: sklearn/utils/validation.py (deflated 74%)\n",
      "  adding: sklearn/utils/weight_vector.cpython-37m-x86_64-linux-gnu.so (deflated 58%)\n"
     ]
    }
   ],
   "source": [
    "%%bash\n",
    "chmod +x create_lambda\n",
    "cd sklearn_package\n",
    "\n",
    "#zip up the sklearn package\n",
    "zip -r9 ../sklearn_package.zip ./ | tail -n 3"
   ]
  },
  {
   "cell_type": "code",
   "execution_count": 85,
   "metadata": {},
   "outputs": [
    {
     "name": "stdout",
     "output_type": "stream",
     "text": [
      "Overwriting sklearn_example2.py\n"
     ]
    }
   ],
   "source": [
    "%%writefile sklearn_example2.py\n",
    "import json\n",
    "import pandas as pd\n",
    "import sklearn\n",
    "\n",
    "def lambda_handler(event, context):\n",
    "    df = pd.DataFrame({'a':[5,3,2,10], 'b':[20, 30, 40, 50]})\n",
    "    return {\n",
    "        'statusCode': 205,\n",
    "        'body': json.dumps({'event':event, 'output': repr(df.mean())})}"
   ]
  },
  {
   "cell_type": "code",
   "execution_count": 86,
   "metadata": {},
   "outputs": [
    {
     "name": "stdout",
     "output_type": "stream",
     "text": [
      "function_name sklearn_example2\n",
      "ver_name sklearn_example2_6\n",
      "mod_name sklearn_example2\n",
      "bucket_zip .zip\n",
      "  adding: sklearn_example2.py (deflated 26%)\n",
      "updating: sklearn_example2.py (deflated 26%)\n",
      "{\n",
      "    \"FunctionName\": \"sklearn_example2_6\",\n",
      "    \"FunctionArn\": \"arn:aws:lambda:us-east-2:$AWS_ID:function:sklearn_example2_6\",\n",
      "    \"Runtime\": \"python3.7\",\n",
      "    \"Role\": \"arn:aws:iam::$AWS_ID:role/service-role/aws_lambda_role\",\n",
      "    \"Handler\": \"sklearn_example2.lambda_handler\",\n",
      "    \"CodeSize\": 378,\n",
      "    \"Description\": \"\",\n",
      "    \"Timeout\": 3,\n",
      "    \"MemorySize\": 128,\n",
      "    \"LastModified\": \"2019-04-03T03:12:24.053+0000\",\n",
      "    \"CodeSha256\": \"B2egszZdhKTDmdDLliRvM2ftaZ5g49I9Cpjt/bY4PQc=\",\n",
      "    \"Version\": \"$LATEST\",\n",
      "    \"TracingConfig\": {\n",
      "        \"Mode\": \"PassThrough\"\n",
      "    },\n",
      "    \"RevisionId\": \"3b7a70a8-9784-47c5-a18b-71a92f863866\"\n",
      "}\n",
      "upload: ../../../../tmp/function.zip to s3://pandas-sklearn-demo/.zip\n",
      "{\n",
      "    \"FunctionName\": \"sklearn_example2_6\",\n",
      "    \"FunctionArn\": \"arn:aws:lambda:us-east-2:$AWS_ID:function:sklearn_example2_6\",\n",
      "    \"Runtime\": \"python3.7\",\n",
      "    \"Role\": \"arn:aws:iam::$AWS_ID:role/service-role/aws_lambda_role\",\n",
      "    \"Handler\": \"sklearn_example2.lambda_handler\",\n",
      "    \"CodeSize\": 70547418,\n",
      "    \"Description\": \"\",\n",
      "    \"Timeout\": 3,\n",
      "    \"MemorySize\": 128,\n",
      "    \"LastModified\": \"2019-04-03T03:14:09.712+0000\",\n",
      "    \"CodeSha256\": \"sloutyrHp0rv0ASFEXbeEfYS1E0RIKl03Rhx/4uD4xM=\",\n",
      "    \"Version\": \"$LATEST\",\n",
      "    \"TracingConfig\": {\n",
      "        \"Mode\": \"PassThrough\"\n",
      "    },\n",
      "    \"RevisionId\": \"79390dd7-9ac9-4b50-b388-05b1acc6d06b\"\n",
      "}\n",
      "{\"statusCode\": 205, \"body\": \"{\\\"event\\\": {}, \\\"output\\\": \\\"a     5.0\\\\nb    35.0\\\\ndtype: float64\\\"}\"}\n",
      "\n",
      "real\t1m56.173s\n",
      "user\t0m4.839s\n",
      "sys\t0m2.386s\n"
     ]
    }
   ],
   "source": [
    "!time ./create_lambda sklearn_example2 6 sklearn_package.zip"
   ]
  },
  {
   "cell_type": "markdown",
   "metadata": {},
   "source": [
    "## Matplotlib example"
   ]
  },
  {
   "cell_type": "code",
   "execution_count": 110,
   "metadata": {},
   "outputs": [
    {
     "name": "stdout",
     "output_type": "stream",
     "text": [
      "  Using cached https://files.pythonhosted.org/packages/73/fb/00a976f728d0d1fecfe898238ce23f502a721c0ac0ecfedb80e0d88c64e9/six-1.12.0-py2.py3-none-any.whl\n",
      "Collecting setuptools (from kiwisolver>=1.0.1->matplotlib)\n",
      "  Using cached https://files.pythonhosted.org/packages/d1/6a/4b2fcefd2ea0868810e92d519dacac1ddc64a2e53ba9e3422c3b62b378a6/setuptools-40.8.0-py2.py3-none-any.whl\n",
      "Installing collected packages: pytz, six, python-dateutil, numpy, pandas, pyparsing, cycler, setuptools, kiwisolver, matplotlib\n",
      "Successfully installed cycler-0.10.0 kiwisolver-1.0.1 matplotlib-3.0.3 numpy-1.16.2 pandas-0.24.2 pyparsing-2.3.1 python-dateutil-2.8.0 pytz-2018.9 setuptools-40.8.0 six-1.12.0\n",
      "Target directory /Users/paddy/code/lambda_py_notebooks/pydata_full/setuptools already exists. Specify --upgrade to force replacement.\n",
      "Target directory /Users/paddy/code/lambda_py_notebooks/pydata_full/setuptools-40.8.0.dist-info already exists. Specify --upgrade to force replacement.\n",
      "Target directory /Users/paddy/code/lambda_py_notebooks/pydata_full/six-1.12.0.dist-info already exists. Specify --upgrade to force replacement.\n",
      "Target directory /Users/paddy/code/lambda_py_notebooks/pydata_full/six.py already exists. Specify --upgrade to force replacement.\n",
      "Target directory /Users/paddy/code/lambda_py_notebooks/pydata_full/bin already exists. Specify --upgrade to force replacement.\n",
      "  adding: zmq/utils/z85.py (deflated 52%)\n",
      "  adding: zmq/utils/zmq_compat.h (deflated 67%)\n",
      "  adding: zmq/utils/zmq_constants.h (deflated 88%)\n"
     ]
    },
    {
     "name": "stderr",
     "output_type": "stream",
     "text": [
      "mkdir: pydata_full: File exists\n"
     ]
    }
   ],
   "source": [
    "%%bash\n",
    "#note the extra options to force linux packages even if you are on OS X\n",
    "mkdir pydata_full\n",
    "rm -rf pydata_full/*\n",
    "pip install pandas matplotlib \\\n",
    "        --platform manylinux1_x86_64\\\n",
    "        --python-version 37 \\\n",
    "        --only-binary=:all:  --target pydata_full 2>&1 | tail -n 5\n",
    "\n",
    "pip install papermill jupyter \\\n",
    "        --target pydata_full 2>&1 | tail -n 5\n",
    "rm pydata_full.zip\n",
    "cd pydata_full\n",
    "zip -r9 ../pydata_full.zip ./ | tail -n 3"
   ]
  },
  {
   "cell_type": "code",
   "execution_count": 114,
   "metadata": {},
   "outputs": [
    {
     "name": "stdout",
     "output_type": "stream",
     "text": [
      "Overwriting mpl_debug.py\n"
     ]
    }
   ],
   "source": [
    "%%writefile mpl_debug.py\n",
    "import json\n",
    "import matplotlib as mpl\n",
    "import matplotlib.pyplot as plt\n",
    "from io import StringIO, BytesIO\n",
    "\n",
    "def lambda_handler(event, context):\n",
    "    mpl.use('agg')\n",
    "\n",
    "    fig, ax = plt.subplots(figsize=(10,7))\n",
    "    ax.plot(range(20), range(20))\n",
    "    buffer_ = BytesIO()\n",
    "    fig.savefig(buffer_)\n",
    "    \n",
    "    return {'img_len': len(buffer_.getvalue())}\n",
    "\n"
   ]
  },
  {
   "cell_type": "code",
   "execution_count": 115,
   "metadata": {},
   "outputs": [
    {
     "name": "stdout",
     "output_type": "stream",
     "text": [
      "function_name mpl_debug\n",
      "ver_name mpl_debug_6\n",
      "mod_name mpl_debug\n",
      "bucket_zip .zip\n",
      "  adding: mpl_debug.py (deflated 35%)\n",
      "updating: mpl_debug.py (deflated 35%)\n",
      "{\n",
      "    \"FunctionName\": \"mpl_debug_6\",\n",
      "    \"FunctionArn\": \"arn:aws:lambda:us-east-2:$AWS_ID:function:mpl_debug_6\",\n",
      "    \"Runtime\": \"python3.7\",\n",
      "    \"Role\": \"arn:aws:iam::$AWS_ID:role/service-role/aws_lambda_role\",\n",
      "    \"Handler\": \"mpl_debug.lambda_handler\",\n",
      "    \"CodeSize\": 750,\n",
      "    \"Description\": \"\",\n",
      "    \"Timeout\": 3,\n",
      "    \"MemorySize\": 128,\n",
      "    \"LastModified\": \"2019-04-03T05:45:06.883+0000\",\n",
      "    \"CodeSha256\": \"6GQ9mrsuprqUpNswfDht6ipAxiU/+xrScFi15IltbWA=\",\n",
      "    \"Version\": \"$LATEST\",\n",
      "    \"TracingConfig\": {\n",
      "        \"Mode\": \"PassThrough\"\n",
      "    },\n",
      "    \"RevisionId\": \"f985f083-d9cf-4ccd-85df-8d2e8d336c74\"\n",
      "}\n",
      "upload: ../../../../tmp/function.zip to s3://pandas-sklearn-demo/.zip\n",
      "{\n",
      "    \"FunctionName\": \"mpl_debug_6\",\n",
      "    \"FunctionArn\": \"arn:aws:lambda:us-east-2:$AWS_ID:function:mpl_debug_6\",\n",
      "    \"Runtime\": \"python3.7\",\n",
      "    \"Role\": \"arn:aws:iam::$AWS_ID:role/service-role/aws_lambda_role\",\n",
      "    \"Handler\": \"mpl_debug.lambda_handler\",\n",
      "    \"CodeSize\": 76537544,\n",
      "    \"Description\": \"\",\n",
      "    \"Timeout\": 3,\n",
      "    \"MemorySize\": 128,\n",
      "    \"LastModified\": \"2019-04-03T05:47:00.644+0000\",\n",
      "    \"CodeSha256\": \"qAs7Ue6n2pgaWi80mPwN1Uku2d8IUven+q3/6faqtJE=\",\n",
      "    \"Version\": \"$LATEST\",\n",
      "    \"TracingConfig\": {\n",
      "        \"Mode\": \"PassThrough\"\n",
      "    },\n",
      "    \"RevisionId\": \"58b73bec-e68f-4ba6-aaca-b31345ca140a\"\n",
      "}\n",
      "{\"img_len\": 26585}\n",
      "\n",
      "real\t2m6.337s\n",
      "user\t0m4.920s\n",
      "sys\t0m2.529s\n"
     ]
    }
   ],
   "source": [
    "!time ./create_lambda mpl_debug 6 pydata_full.zip"
   ]
  },
  {
   "cell_type": "code",
   "execution_count": 117,
   "metadata": {},
   "outputs": [
    {
     "name": "stdout",
     "output_type": "stream",
     "text": [
      "{\"img_len\": 26585}\r\n",
      "\r\n",
      "real\t0m6.067s\r\n",
      "user\t0m0.878s\r\n",
      "sys\t0m0.242s\r\n"
     ]
    }
   ],
   "source": [
    "!time ./run_function mpl_debug_6"
   ]
  },
  {
   "cell_type": "code",
   "execution_count": 118,
   "metadata": {},
   "outputs": [
    {
     "name": "stdout",
     "output_type": "stream",
     "text": [
      "/Users/paddy/code/lambda_py_notebooks\r\n"
     ]
    }
   ],
   "source": [
    "!pwd"
   ]
  },
  {
   "cell_type": "code",
   "execution_count": null,
   "metadata": {},
   "outputs": [],
   "source": []
  }
 ],
 "metadata": {
  "kernelspec": {
   "display_name": "Python 3",
   "language": "python",
   "name": "python3"
  },
  "language_info": {
   "codemirror_mode": {
    "name": "ipython",
    "version": 3
   },
   "file_extension": ".py",
   "mimetype": "text/x-python",
   "name": "python",
   "nbconvert_exporter": "python",
   "pygments_lexer": "ipython3",
   "version": "3.7.2"
  }
 },
 "nbformat": 4,
 "nbformat_minor": 2
}
