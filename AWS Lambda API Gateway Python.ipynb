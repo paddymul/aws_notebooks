{
 "cells": [
  {
   "cell_type": "markdown",
   "metadata": {},
   "source": [
    "# Deploying the PyData stack onto AWS Lambda\n",
    "\n",
    "AWS Lambda is a serverless stack from Amazon.  It allows you to have functions that run without needing to maintain a running server.  Lambda functions can be triggered from web requests, SQS, Kenisis, and a variety of other events.  Constructing apps with Lambda functions allows you to easily scale without worrying about spinning up servers.\n",
    "\n",
    "AWS Lambda has a well known package size limit of 50MB, which can be expanded to 500MB through some hacks.  I hadn't thought it was possible to easily deploy functions that depended on the PyData stack (pandas, numpy, scikit-learn...) because of these size limitations.  In this notebook I wal through\n",
    "\n",
    "* a simple lambda deployment with no dependencies\n",
    "* a reqular packaged lambda deployment\n",
    "* individual steps necessary to dpeloy the PyData stack\n",
    "* a clean scripted PyData deploy"
   ]
  },
  {
   "cell_type": "markdown",
   "metadata": {},
   "source": [
    "## Implementation notes about this notebook\n",
    "I use the python magics of `%%writefile` and `%%bash` extensively.  `%%writefile` allows me to write the lambda functions and bash scripts inline.  `%%bash` allows multiline shell examples.\n",
    "\n",
    "In a serious dpeloyment system these bash scripts would probably be integrated into Ansible, Chef, or Puppet.  The aws python api could also be used to accomplish the same tasks.  Using the AWS CLI tools through bash is the most straight forward way of experimenting with the lambda platform\n"
   ]
  },
  {
   "cell_type": "markdown",
   "metadata": {},
   "source": [
    "## Running this notebook.\n",
    "\n",
    "The code examples assume a properly configured AWS CLI environment.  The user for the AWS CLI environment must have access to create Lambda functions.  This tutorial also assumes an environment variable AWS_ID with your AWS user_id.  There are scripts integrated which use this variable, and replace the actual account number with \"AWS_ID\" from the output for privacy.\n",
    "\n",
    "This example ntoebook assumes some commands like `aws_sanitize` and `create_lambda_function` that are detailed in the deployment notebook.  `create_lambda_function` is a shell script that is used to simplify lambda function deployment.\n",
    "\n",
    "Some bash commands especially towards the end take a while to run, I have used `time` before these commands.\n",
    "\n",
    "Finally, running these commands will generate AWS charges, but they should be minimal."
   ]
  },
  {
   "cell_type": "markdown",
   "metadata": {},
   "source": [
    "## Simple Lambda Function"
   ]
  },
  {
   "cell_type": "code",
   "execution_count": 1,
   "metadata": {},
   "outputs": [],
   "source": [
    "import json\n",
    "import os\n",
    "import re\n",
    "\n",
    "import boto3\n",
    "import requests"
   ]
  },
  {
   "cell_type": "code",
   "execution_count": 2,
   "metadata": {},
   "outputs": [
    {
     "name": "stdout",
     "output_type": "stream",
     "text": [
      "Overwriting nb1_helloworld.py\n"
     ]
    }
   ],
   "source": [
    "%%writefile nb1_helloworld.py\n",
    "def lambda_handler(event, context):\n",
    "    return {'body': \"hello world\"}"
   ]
  },
  {
   "cell_type": "code",
   "execution_count": 3,
   "metadata": {},
   "outputs": [
    {
     "name": "stdout",
     "output_type": "stream",
     "text": [
      "{\r\n",
      "    \"FunctionName\": \"nb1_helloworld_1\",\r\n",
      "    \"FunctionArn\": \"arn:aws:lambda:us-east-2:$AWS_ID:function:nb1_helloworld_1\",\r\n",
      "    \"Runtime\": \"python3.7\",\r\n",
      "    \"Role\": \"arn:aws:iam::$AWS_ID:role/service-role/aws_lambda_role\",\r\n",
      "    \"Handler\": \"nb1_helloworld.lambda_handler\",\r\n",
      "    \"CodeSize\": 397,\r\n",
      "    \"Description\": \"\",\r\n",
      "    \"Timeout\": 10,\r\n",
      "    \"MemorySize\": 128,\r\n",
      "    \"LastModified\": \"2019-04-10T23:51:46.843+0000\",\r\n",
      "    \"CodeSha256\": \"LTo8yGqbrAoxuMjPT4HPUjQQN9bWc3uK5L9ejLMOdhA=\",\r\n",
      "    \"Version\": \"$LATEST\",\r\n",
      "    \"TracingConfig\": {\r\n",
      "        \"Mode\": \"PassThrough\"\r\n",
      "    },\r\n",
      "    \"RevisionId\": \"7f38858f-f6bf-4d02-940f-563962125ff7\"\r\n",
      "}\r\n",
      "{\"body\": \"hello world\"}\r\n",
      "\r\n",
      "real\t0m12.028s\r\n",
      "user\t0m2.560s\r\n",
      "sys\t0m0.606s\r\n"
     ]
    }
   ],
   "source": [
    "!time ./create_lambda nb1_helloworld 1 min_pack.zip | tail -n 19"
   ]
  },
  {
   "cell_type": "markdown",
   "metadata": {},
   "source": [
    "so we ran the above function and it returned `{\"body\": \"hello world\"}`"
   ]
  },
  {
   "cell_type": "code",
   "execution_count": 4,
   "metadata": {},
   "outputs": [
    {
     "name": "stdout",
     "output_type": "stream",
     "text": [
      "env: AWS_REGION=us-east-2\n",
      "env: LAMBDA_NAME=nb1_helloworld_1\n",
      "env: SUB_PATH=helloworld_endpoint\n"
     ]
    }
   ],
   "source": [
    "%env AWS_REGION=us-east-2\n",
    "%env LAMBDA_NAME=nb1_helloworld_1"
   ]
  },
  {
   "cell_type": "code",
   "execution_count": 5,
   "metadata": {},
   "outputs": [
    {
     "name": "stdout",
     "output_type": "stream",
     "text": [
      "{\r\n",
      "    \"id\": \"onaw5gdom3\",\r\n",
      "    \"name\": \"nb_lambda_api_1\",\r\n",
      "    \"createdDate\": 1554940314,\r\n",
      "    \"apiKeySource\": \"HEADER\",\r\n",
      "    \"endpointConfiguration\": {\r\n",
      "        \"types\": [\r\n",
      "            \"EDGE\"\r\n",
      "        ]\r\n",
      "    }\r\n",
      "}\r\n"
     ]
    }
   ],
   "source": [
    "! aws apigateway create-rest-api --name nb_lambda_api_1"
   ]
  },
  {
   "cell_type": "code",
   "execution_count": 6,
   "metadata": {},
   "outputs": [
    {
     "name": "stdout",
     "output_type": "stream",
     "text": [
      "env: API_ID=onaw5gdom3\n"
     ]
    }
   ],
   "source": [
    "%env API_ID=onaw5gdom3\n",
    "#copy the ID field from above into this env variable"
   ]
  },
  {
   "cell_type": "code",
   "execution_count": 7,
   "metadata": {},
   "outputs": [
    {
     "name": "stdout",
     "output_type": "stream",
     "text": [
      "{\r\n",
      "    \"items\": [\r\n",
      "        {\r\n",
      "            \"id\": \"2tinefqbn5\",\r\n",
      "            \"path\": \"/\"\r\n",
      "        }\r\n",
      "    ]\r\n",
      "}\r\n"
     ]
    }
   ],
   "source": [
    "!aws apigateway get-resources --rest-api-id $API_ID"
   ]
  },
  {
   "cell_type": "code",
   "execution_count": 9,
   "metadata": {},
   "outputs": [
    {
     "name": "stdout",
     "output_type": "stream",
     "text": [
      "env: API_PARENT=2tinefqbn5\n",
      "env: SUB_PATH=helloworld_endpoint\n"
     ]
    }
   ],
   "source": [
    "%env API_PARENT=2tinefqbn5\n",
    "%env SUB_PATH=helloworld_endpoint\n",
    "#once again copy id from the above response into this env block"
   ]
  },
  {
   "cell_type": "code",
   "execution_count": 10,
   "metadata": {},
   "outputs": [
    {
     "name": "stdout",
     "output_type": "stream",
     "text": [
      "{\r\n",
      "    \"id\": \"a0gu29\",\r\n",
      "    \"parentId\": \"2tinefqbn5\",\r\n",
      "    \"pathPart\": \"helloworld_endpoint\",\r\n",
      "    \"path\": \"/helloworld_endpoint\"\r\n",
      "}\r\n"
     ]
    }
   ],
   "source": [
    "!aws apigateway create-resource --rest-api-id $API_ID  --parent-id $API_PARENT --path-part $SUB_PATH"
   ]
  },
  {
   "cell_type": "code",
   "execution_count": 11,
   "metadata": {},
   "outputs": [
    {
     "name": "stdout",
     "output_type": "stream",
     "text": [
      "env: HW_RESOURCE_ID=a0gu29\n"
     ]
    }
   ],
   "source": [
    "%env HW_RESOURCE_ID=a0gu29"
   ]
  },
  {
   "cell_type": "code",
   "execution_count": 12,
   "metadata": {},
   "outputs": [
    {
     "name": "stdout",
     "output_type": "stream",
     "text": [
      "{\n",
      "    \"httpMethod\": \"POST\",\n",
      "    \"authorizationType\": \"NONE\",\n",
      "    \"apiKeyRequired\": false\n",
      "}\n",
      "{\n",
      "    \"type\": \"AWS\",\n",
      "    \"httpMethod\": \"POST\",\n",
      "    \"uri\": \"arn:aws:apigateway:us-east-2:lambda:path/2015-03-31/functions/arn:aws:lambda:us-east-2:$AWS_ID:function:nb1_helloworld_1/invocations\",\n",
      "    \"passthroughBehavior\": \"WHEN_NO_MATCH\",\n",
      "    \"timeoutInMillis\": 29000,\n",
      "    \"cacheNamespace\": \"a0gu29\",\n",
      "    \"cacheKeyParameters\": []\n",
      "}\n",
      "{\n",
      "    \"statusCode\": \"200\",\n",
      "    \"responseModels\": {\n",
      "        \"application/json\": \"Empty\"\n",
      "    }\n",
      "}\n",
      "{\n",
      "    \"statusCode\": \"200\",\n",
      "    \"responseTemplates\": {\n",
      "        \"application/json\": null\n",
      "    }\n",
      "}\n",
      "{\n",
      "    \"id\": \"ttusmd\",\n",
      "    \"createdDate\": 1554940393\n",
      "}\n"
     ]
    }
   ],
   "source": [
    "%%bash \n",
    "export FUNC_URN=arn:aws:lambda:$AWS_REGION:$AWS_ID:function:$LAMBDA_NAME/invocations\n",
    "export HW_FUNC_INTEGRATION_URI=arn:aws:apigateway:$AWS_REGION:lambda:path/2015-03-31/functions/$FUNC_URN\n",
    "\n",
    "aws apigateway put-method --rest-api-id $API_ID --resource-id $HW_RESOURCE_ID  \\\n",
    "--http-method POST --authorization-type NONE | ./aws_sanitize\n",
    "\n",
    "aws apigateway put-integration --rest-api-id $API_ID --resource-id $HW_RESOURCE_ID \\\n",
    "--http-method POST --type AWS --integration-http-method POST \\\n",
    "--uri $HW_FUNC_INTEGRATION_URI | ./aws_sanitize\n",
    "\n",
    "aws apigateway put-method-response --rest-api-id $API_ID \\\n",
    "--resource-id $HW_RESOURCE_ID --http-method POST \\\n",
    "--status-code 200 --response-models application/json=Empty | ./aws_sanitize\n",
    "\n",
    "aws apigateway put-integration-response --rest-api-id $API_ID \\\n",
    "--resource-id $HW_RESOURCE_ID --http-method POST \\\n",
    "--status-code 200 --response-templates application/json=\"\" | ./aws_sanitize\n",
    "\n",
    "aws apigateway create-deployment --rest-api-id $API_ID --stage-name prod"
   ]
  },
  {
   "cell_type": "code",
   "execution_count": 13,
   "metadata": {},
   "outputs": [
    {
     "name": "stdout",
     "output_type": "stream",
     "text": [
      "{\n",
      "    \"Statement\": \"{\\\"Sid\\\":\\\"apigateway-test-1\\\",\\\"Effect\\\":\\\"Allow\\\",\\\"Principal\\\":{\\\"Service\\\":\\\"apigateway.amazonaws.com\\\"},\\\"Action\\\":\\\"lambda:InvokeFunction\\\",\\\"Resource\\\":\\\"arn:aws:lambda:us-east-2:$AWS_ID:function:nb1_helloworld_1\\\",\\\"Condition\\\":{\\\"ArnLike\\\":{\\\"AWS:SourceArn\\\":\\\"arn:aws:execute-api:us-east-2:$AWS_ID:onaw5gdom3/*/POST/helloworld_endpoint\\\"}}}\"\n",
      "}\n",
      "{\n",
      "    \"Statement\": \"{\\\"Sid\\\":\\\"apigateway-prod-1\\\",\\\"Effect\\\":\\\"Allow\\\",\\\"Principal\\\":{\\\"Service\\\":\\\"apigateway.amazonaws.com\\\"},\\\"Action\\\":\\\"lambda:InvokeFunction\\\",\\\"Resource\\\":\\\"arn:aws:lambda:us-east-2:$AWS_ID:function:nb1_helloworld_1\\\",\\\"Condition\\\":{\\\"ArnLike\\\":{\\\"AWS:SourceArn\\\":\\\"arn:aws:execute-api:us-east-2:$AWS_ID:onaw5gdom3/prod/POST/helloworld_endpoint\\\"}}}\"\n",
      "}\n"
     ]
    }
   ],
   "source": [
    "%%bash\n",
    "aws lambda add-permission --function-name $LAMBDA_NAME \\\n",
    "--statement-id apigateway-test-1 --action lambda:InvokeFunction \\\n",
    "--principal apigateway.amazonaws.com \\\n",
    "--source-arn \"arn:aws:execute-api:$AWS_REGION:$AWS_ID:$API_ID/*/POST/$SUB_PATH\" 2>&1  | ./aws_sanitize\n",
    "#this is a testing call, apparently it is necessary\n",
    "aws lambda add-permission --function-name $LAMBDA_NAME \\\n",
    "--statement-id apigateway-prod-1 --action lambda:InvokeFunction \\\n",
    "--principal apigateway.amazonaws.com \\\n",
    "--source-arn \"arn:aws:execute-api:$AWS_REGION:$AWS_ID:$API_ID/prod/POST/$SUB_PATH\" 2>&1  | ./aws_sanitize\n"
   ]
  },
  {
   "cell_type": "code",
   "execution_count": 14,
   "metadata": {},
   "outputs": [
    {
     "name": "stdout",
     "output_type": "stream",
     "text": [
      "{\r\n",
      "    \"status\": 200,\r\n",
      "    \"body\": \"{\\\"body\\\": \\\"hello world\\\"}\",\r\n",
      "    \"headers\": {\r\n",
      "        \"Content-Type\": \"application/json\",\r\n",
      "        \"X-Amzn-Trace-Id\": \"Root=1-5cae823a-b6503633aa846c8f0ad22733;Sampled=0\"\r\n",
      "    },\r\n",
      "    \"multiValueHeaders\": {\r\n",
      "        \"Content-Type\": [\r\n",
      "            \"application/json\"\r\n",
      "        ],\r\n",
      "        \"X-Amzn-Trace-Id\": [\r\n",
      "            \"Root=1-5cae823a-b6503633aa846c8f0ad22733;Sampled=0\"\r\n",
      "        ]\r\n",
      "    },\r\n",
      "    \"log\": \"Execution log for request fdaf31d7-5beb-11e9-a156-4fb58de79c26\\nWed Apr 10 23:54:34 UTC 2019 : Starting execution for request: fdaf31d7-5beb-11e9-a156-4fb58de79c26\\nWed Apr 10 23:54:34 UTC 2019 : HTTP Method: POST, Resource Path: /helloworld_endpoint\\nWed Apr 10 23:54:34 UTC 2019 : Method request path: {}\\nWed Apr 10 23:54:34 UTC 2019 : Method request query string: {}\\nWed Apr 10 23:54:34 UTC 2019 : Method request headers: {}\\nWed Apr 10 23:54:34 UTC 2019 : Method request body before transformations: {\\n  \\\"operation\\\": \\\"echo\\\",\\n  \\\"payload\\\": {\\n    \\\"somekey1\\\": \\\"somevalue1\\\",\\n    \\\"somekey2\\\": \\\"somevalue2\\\"\\n  }\\n}\\n\\nWed Apr 10 23:54:34 UTC 2019 : Endpoint request URI: https://lambda.us-east-2.amazonaws.com/2015-03-31/functions/arn:aws:lambda:us-east-2:$AWS_ID:function:nb1_helloworld_1/invocations\\nWed Apr 10 23:54:34 UTC 2019 : Endpoint request headers: {x-amzn-lambda-integration-tag=fdaf31d7-5beb-11e9-a156-4fb58de79c26, Authorization=************************************************************************************************************************************************************************************************************************************************************************************************************************e69ced, X-Amz-Date=20190410T235434Z, x-amzn-apigateway-api-id=onaw5gdom3, X-Amz-Source-Arn=arn:aws:execute-api:us-east-2:$AWS_ID:onaw5gdom3/test-invoke-stage/POST/helloworld_endpoint, Accept=application/json, User-Agent=AmazonAPIGateway_onaw5gdom3, X-Amz-Security-Token=AgoJb3JpZ2luX2VjELf//////////wEaCXVzLWVhc3QtMiJHMEUCIQDW+rqSrhmCa1h1UjU15DWvlS+KNXuwNI/hRoYoP1bByAIgGIW8VHZ91nXSdDhkRV6dSWmUVWSWV+YQVq8HG1lfjsMq4wMIgP//////////ARAAGgw3MTg3NzA0NTMxOTUiDL7DNYNUJ2Du3ebJ8Sq3A0vsMr3/cs7tw06Ob7upuWjAyiPi50WaKl6FpILWdbmabu1JWY9lVOwCbe0wbPuWze7O2BrJualyMpoiX/ek+BwghsI8jqORHiVmIg/ajXn3ECRUp0NO5j+j/6ah [TRUNCATED]\\nWed Apr 10 23:54:34 UTC 2019 : Endpoint request body after transformations: {\\n  \\\"operation\\\": \\\"echo\\\",\\n  \\\"payload\\\": {\\n    \\\"somekey1\\\": \\\"somevalue1\\\",\\n    \\\"somekey2\\\": \\\"somevalue2\\\"\\n  }\\n}\\n\\nWed Apr 10 23:54:34 UTC 2019 : Sending request to https://lambda.us-east-2.amazonaws.com/2015-03-31/functions/arn:aws:lambda:us-east-2:$AWS_ID:function:nb1_helloworld_1/invocations\\nWed Apr 10 23:54:34 UTC 2019 : Received response. Status: 200, Integration latency: 36 ms\\nWed Apr 10 23:54:34 UTC 2019 : Endpoint response headers: {Date=Wed, 10 Apr 2019 23:54:34 GMT, Content-Type=application/json, Content-Length=23, Connection=keep-alive, x-amzn-RequestId=67861785-770f-4f96-922f-48d7b9e4beea, x-amzn-Remapped-Content-Length=0, X-Amz-Executed-Version=$LATEST, X-Amzn-Trace-Id=root=1-5cae823a-b6503633aa846c8f0ad22733;sampled=0}\\nWed Apr 10 23:54:34 UTC 2019 : Endpoint response body before transformations: {\\\"body\\\": \\\"hello world\\\"}\\nWed Apr 10 23:54:34 UTC 2019 : Method response body after transformations: {\\\"body\\\": \\\"hello world\\\"}\\nWed Apr 10 23:54:34 UTC 2019 : Method response headers: {X-Amzn-Trace-Id=Root=1-5cae823a-b6503633aa846c8f0ad22733;Sampled=0, Content-Type=application/json}\\nWed Apr 10 23:54:34 UTC 2019 : Successfully completed execution\\nWed Apr 10 23:54:34 UTC 2019 : Method completed with status: 200\\n\",\r\n",
      "    \"latency\": 41\r\n",
      "}\r\n"
     ]
    }
   ],
   "source": [
    "!aws apigateway test-invoke-method --rest-api-id $API_ID \\\n",
    "--resource-id $HW_RESOURCE_ID --http-method POST --path-with-query-string \"\" \\\n",
    "--body file://echo.json   2>&1 | ./aws_sanitize"
   ]
  },
  {
   "cell_type": "code",
   "execution_count": 15,
   "metadata": {},
   "outputs": [
    {
     "name": "stdout",
     "output_type": "stream",
     "text": [
      "{\"body\": \"hello world\"}"
     ]
    }
   ],
   "source": [
    "!curl -X POST -d \"{\\\"unused_key\\\":\\\"value\\\", \\\"payload\\\":{\\\"pkey1\\\":\\\"pval1\\\"}}\" \\\n",
    "      \"https://$API_ID.execute-api.$AWS_REGION.amazonaws.com/prod/$SUB_PATH\"\n"
   ]
  },
  {
   "cell_type": "code",
   "execution_count": 16,
   "metadata": {},
   "outputs": [
    {
     "name": "stdout",
     "output_type": "stream",
     "text": [
      "Overwriting echo.json\n"
     ]
    }
   ],
   "source": [
    "%%writefile echo.json\n",
    "{\n",
    "  \"operation\": \"echo\",\n",
    "  \"payload\": {\n",
    "    \"somekey1\": \"somevalue1\",\n",
    "    \"somekey2\": \"somevalue2\"\n",
    "  }\n",
    "}"
   ]
  },
  {
   "cell_type": "markdown",
   "metadata": {},
   "source": [
    "## Gateway Hookup scripted with python and boto\n",
    "Wow, that was a lot of shell scripting.  The AWS CLI works well for simple examples and experimentation, it quickly becomes unwieldy for more complex tasks.  In the above examples I manually extracted newly created ID's into variables for subsequent use.  I could have scripted this extraction with `sed`, but it would have been awkward.  Instead I built some deployment functions with python and boto.  \n",
    "\n",
    "NB.  I would not call this a serious deployment solution, for that look into `ansible`, `cloudformation` or some other solution.  These scripts are just the MVP necessarily for me to experiment with AWS Lambda enough to decide if I could use it for real world work."
   ]
  },
  {
   "cell_type": "code",
   "execution_count": 17,
   "metadata": {},
   "outputs": [],
   "source": [
    "# global\n",
    "AWS_ID = os.getenv(\"AWS_ID\")\n",
    "REGION = \"us-east-2\"\n",
    "E_ARN_fstr = \"arn:aws:execute-api:{REGION}:{AWS_ID}:{API_ID}/{STG}/POST/{SUB_PATH}\"\n",
    "F_ARN_fstr = \"arn:aws:lambda:{REGION}:{AWS_ID}:function:{LAMBDA_NAME}/invocations\"\n",
    "IURI_fstr = \"arn:aws:apigateway:{REGION}:lambda:path/2015-03-31/functions/{FUNC_ARN}\"\n",
    "apig = boto3.client('apigateway')\n",
    "lambda_client = boto3.client('lambda')"
   ]
  },
  {
   "cell_type": "code",
   "execution_count": 18,
   "metadata": {},
   "outputs": [],
   "source": [
    "def get_or_create_rest_api_id(api_name):\n",
    "    rest_apis_resp = apig.get_rest_apis()\n",
    "\n",
    "    for itm in rest_apis_resp['items']:\n",
    "        if itm['name'] == api_name:\n",
    "            return itm['id']\n",
    "    # this api doesn't exist, create it\n",
    "    rest_api_resp = apig.create_rest_api(name=api_name)\n",
    "    api_id = rest_api_resp['id']\n",
    "    return api_id\n",
    "\n",
    "\n",
    "def get_api_id_resource_id(api_name, child_path, parent_path=\"/\"):\n",
    "    # do some check to see if this exists, if it does, return the\n",
    "    # existing\n",
    "    api_id = get_or_create_rest_api_id(api_name)\n",
    "    resources_resp = apig.get_resources(restApiId=api_id)\n",
    "    for itm in resources_resp['items']:\n",
    "        if 'pathPart' in itm and itm['pathPart'] == child_path:\n",
    "            # if this child_path has already been created, we're done\n",
    "            new_api_resource_id = itm['id']\n",
    "            return api_id, new_api_resource_id\n",
    "        if itm['path'] == parent_path:\n",
    "            parent_resource_id = itm['id']\n",
    "\n",
    "    create_resource_resp = apig.create_resource(\n",
    "        restApiId=api_id, parentId=parent_resource_id, pathPart=child_path)\n",
    "    new_api_resource_id = create_resource_resp['id']\n",
    "    return api_id, new_api_resource_id\n",
    "\n",
    "\n",
    "def extract_number(haystack):\n",
    "    return int(re.search(\"(\\d+)\", haystack).group(0))\n",
    "\n",
    "\n",
    "def create_new_deployment(api_id):\n",
    "    # deployments are necessary to connect the gateway to the public\n",
    "    # internet you can setup caching, and have multiple deployments of\n",
    "    # the same API routed to different functions.  You can control the\n",
    "    # percentage of traffic that goes to each endpoint for staged\n",
    "    # deployments\n",
    "\n",
    "    # It seems that we need a new deployment for each update.\n",
    "\n",
    "    stages_resp = apig.get_stages(restApiId=api_id)\n",
    "    ver_num = 0\n",
    "    for itm in stages_resp['item']:\n",
    "        try:\n",
    "            itm_ver = extract_number(itm['stageName'])\n",
    "            if itm_ver > ver_num:\n",
    "                ver_num = itm_ver\n",
    "        except Exception as ex:\n",
    "            continue\n",
    "    new_ver_num = ver_num + 1\n",
    "\n",
    "    stage_name = \"prod_{0}\".format(new_ver_num)\n",
    "    apig.create_deployment(\n",
    "        restApiId=api_id, stageName=stage_name)\n",
    "    return stage_name\n",
    "\n",
    "\n",
    "class ModifyConfigurationError(Exception):\n",
    "    pass\n",
    "\n",
    "\n",
    "def ensure_methods(api_id, new_api_resource_id, func_arn):\n",
    "    try:\n",
    "        methods = apig.get_method(\n",
    "            restApiId=api_id, resourceId=new_api_resource_id, httpMethod=\"POST\")\n",
    "    except Exception as ex:\n",
    "        if ex.response['Error']['Code'] == 'NotFoundException':\n",
    "            return False\n",
    "    mi_uri = methods['methodIntegration']['uri']\n",
    "    if func_arn not in mi_uri:\n",
    "        raise ModifyConfigurationError(\n",
    "            \"There is already an integration for {0} pointing at {1}, can't point to {2}\".format(\n",
    "                new_api_resource_id, mi_uri, func_arn))\n",
    "    return True\n",
    "\n",
    "\n",
    "def setup_methods(api_id, new_api_resource_id, func_arn):\n",
    "    already_exists = ensure_methods(api_id, new_api_resource_id, func_arn)\n",
    "    if already_exists:\n",
    "        return\n",
    "\n",
    "    apig.put_method(\n",
    "        restApiId=api_id, resourceId=new_api_resource_id,\n",
    "        httpMethod=\"POST\", authorizationType=\"NONE\")\n",
    "\n",
    "    integration_uri = IURI_fstr.format(REGION=REGION, FUNC_ARN=func_arn)\n",
    "    apig.put_integration(\n",
    "        restApiId=api_id, resourceId=new_api_resource_id,\n",
    "        httpMethod=\"POST\", type=\"AWS\", integrationHttpMethod=\"POST\",\n",
    "        uri=integration_uri)\n",
    "\n",
    "    response_models = {'application/json': 'Empty'}\n",
    "    apig.put_method_response(\n",
    "        restApiId=api_id, resourceId=new_api_resource_id,\n",
    "        httpMethod=\"POST\", statusCode=\"200\",\n",
    "        responseModels=response_models)\n",
    "\n",
    "    response_templates = {'application/json': \"\"}\n",
    "    apig.put_integration_response(\n",
    "        restApiId=api_id, resourceId=new_api_resource_id,\n",
    "        httpMethod=\"POST\", statusCode=\"200\",\n",
    "        responseTemplates=response_templates)\n",
    "\n",
    "\n",
    "def set_lambda_permisions(api_id, url_subpath, lambda_name, stage_name):\n",
    "    statement_num = 0\n",
    "    needs_test = True\n",
    "    needs_prod = True\n",
    "\n",
    "    TEST_ARN = E_ARN_fstr.format(\n",
    "        REGION=REGION, AWS_ID=AWS_ID, API_ID=api_id,\n",
    "        SUB_PATH=url_subpath, STG=\"*\")\n",
    "\n",
    "    PROD_ARN = E_ARN_fstr.format(\n",
    "        REGION=REGION, AWS_ID=AWS_ID, STG=stage_name,\n",
    "        SUB_PATH=url_subpath, API_ID=api_id)\n",
    "\n",
    "    try:\n",
    "        policy_resp = lambda_client.get_policy(FunctionName=lambda_name)\n",
    "        policy = json.loads(policy_resp['Policy'])\n",
    "\n",
    "        for stmt in policy['Statement']:\n",
    "            cur_stmt_num = extract_number(stmt['Sid'])\n",
    "            if cur_stmt_num > statement_num:\n",
    "                statement_num = cur_stmt_num\n",
    "            source_arn = stmt['Condition']['ArnLike']['AWS:SourceArn']\n",
    "            if source_arn == TEST_ARN:\n",
    "                needs_test = False\n",
    "            if source_arn == PROD_ARN:\n",
    "                needs_prod = False\n",
    "\n",
    "    except Exception as ex:\n",
    "        if ex.response['Error']['Code'] == 'ResourceNotFoundException':\n",
    "            pass\n",
    "        else:\n",
    "            raise\n",
    "    new_statement_num = statement_num + 1\n",
    "    test_stmt = \"apigateway-test-{0:d}\".format(new_statement_num)\n",
    "    prod_stmt = \"apigateway-prod-{0:d}\".format(new_statement_num)\n",
    "    if needs_test:\n",
    "        lambda_client.add_permission(\n",
    "            Action=\"lambda:InvokeFunction\", Principal=\"apigateway.amazonaws.com\",\n",
    "            FunctionName=lambda_name, StatementId=test_stmt, SourceArn=TEST_ARN)\n",
    "    if needs_prod:\n",
    "        lambda_client.add_permission(\n",
    "            Action=\"lambda:InvokeFunction\", Principal=\"apigateway.amazonaws.com\",\n",
    "            FunctionName=lambda_name, StatementId=prod_stmt, SourceArn=PROD_ARN)\n",
    "\n",
    "\n",
    "def hookup_gateway(gateway_name, url_subpath, lambda_name,\n",
    "                   test_json_fname='echo.json'):\n",
    "    api_id, new_api_resource_id = get_api_id_resource_id(\n",
    "        gateway_name, url_subpath)\n",
    "\n",
    "    func_arn = F_ARN_fstr.format(\n",
    "        REGION=REGION, AWS_ID=AWS_ID, LAMBDA_NAME=lambda_name)\n",
    "\n",
    "    setup_methods(api_id, new_api_resource_id, func_arn)\n",
    "    stage_name = create_new_deployment(api_id)\n",
    "    set_lambda_permisions(api_id, url_subpath, lambda_name, stage_name)\n",
    "\n",
    "    invoke_resp = apig.test_invoke_method(\n",
    "        restApiId=api_id, resourceId=new_api_resource_id,\n",
    "        httpMethod=\"POST\", pathWithQueryString=\"\",\n",
    "        body=open(test_json_fname).read())\n",
    "\n",
    "    url_fstr = \"https://{API_ID}.execute-api.{REGION}.amazonaws.com/{STG}/{SUB_PATH}\"\n",
    "    url = url_fstr.format(API_ID=api_id, REGION=REGION, STG=stage_name,\n",
    "                          SUB_PATH=url_subpath)\n",
    "\n",
    "    return dict(\n",
    "        test_response=invoke_resp['body'],\n",
    "        api_id=api_id, url=url)\n"
   ]
  },
  {
   "cell_type": "code",
   "execution_count": 19,
   "metadata": {},
   "outputs": [
    {
     "name": "stdout",
     "output_type": "stream",
     "text": []
    },
    {
     "data": {
      "text/plain": [
       "{'test_response': '{\"body\": \"hello world\"}',\n",
       " 'api_id': 'lx4pwu3za2',\n",
       " 'url': 'https://lx4pwu3za2.execute-api.us-east-2.amazonaws.com/prod_1/helloworld_endpoint2'}"
      ]
     },
     "execution_count": 19,
     "metadata": {},
     "output_type": "execute_result"
    }
   ],
   "source": [
    "api_info = hookup_gateway(\n",
    "    gateway_name=\"nb_lambda_api_2\", url_subpath=\"helloworld_endpoint2\",\n",
    "    lambda_name=\"nb1_helloworld_1\")\n",
    "os.environ['API_URL'] = api_info['url']\n",
    "api_info"
   ]
  },
  {
   "cell_type": "code",
   "execution_count": 20,
   "metadata": {},
   "outputs": [
    {
     "name": "stdout",
     "output_type": "stream",
     "text": [
      "https://lx4pwu3za2.execute-api.us-east-2.amazonaws.com/prod_1/helloworld_endpoint2\n",
      "{\"body\": \"hello world\"}"
     ]
    }
   ],
   "source": [
    "!echo $API_URL\n",
    "!curl -X POST -d \"{\\\"unused_key\\\":\\\"value\\\", \\\"payload\\\":{\\\"pkey1\\\":\\\"pval1\\\"}}\" $API_URL"
   ]
  },
  {
   "cell_type": "code",
   "execution_count": 21,
   "metadata": {},
   "outputs": [
    {
     "name": "stdout",
     "output_type": "stream",
     "text": [
      "Overwriting nb1_addition.py\n"
     ]
    }
   ],
   "source": [
    "%%writefile nb1_addition.py\n",
    "\n",
    "def lambda_handler(event, context):\n",
    "    return {'sum': event.get('a', 0) + event.get('b', 0)}"
   ]
  },
  {
   "cell_type": "code",
   "execution_count": 22,
   "metadata": {},
   "outputs": [
    {
     "name": "stdout",
     "output_type": "stream",
     "text": [
      "Overwriting addition_1.json\n"
     ]
    }
   ],
   "source": [
    "%%writefile addition_1.json\n",
    "{ \"a\":5, \"b\":10 }"
   ]
  },
  {
   "cell_type": "code",
   "execution_count": 23,
   "metadata": {},
   "outputs": [
    {
     "name": "stdout",
     "output_type": "stream",
     "text": [
      "        \"Mode\": \"PassThrough\"\r\n",
      "    },\r\n",
      "    \"RevisionId\": \"a62139a3-8a0b-4f79-ab70-ab7dbebf7836\"\r\n",
      "}\r\n",
      "{\"sum\": 0}\r\n",
      "\r\n",
      "real\t0m10.507s\r\n",
      "user\t0m2.780s\r\n",
      "sys\t0m0.666s\r\n"
     ]
    }
   ],
   "source": [
    "!time ./create_lambda nb1_addition 1 min_pack.zip | tail -n 5"
   ]
  },
  {
   "cell_type": "code",
   "execution_count": 24,
   "metadata": {},
   "outputs": [
    {
     "name": "stdout",
     "output_type": "stream",
     "text": []
    },
    {
     "data": {
      "text/plain": [
       "{'test_response': '{\"sum\": 15}',\n",
       " 'api_id': 'lx4pwu3za2',\n",
       " 'url': 'https://lx4pwu3za2.execute-api.us-east-2.amazonaws.com/prod_2/addition_endpoint'}"
      ]
     },
     "execution_count": 24,
     "metadata": {},
     "output_type": "execute_result"
    }
   ],
   "source": [
    "api_info = hookup_gateway(\n",
    "    gateway_name=\"nb_lambda_api_2\", url_subpath=\"addition_endpoint\",\n",
    "    lambda_name=\"nb1_addition_1\", test_json_fname='addition_1.json')\n",
    "os.environ['API_URL'] = api_info['url']\n",
    "api_info"
   ]
  },
  {
   "cell_type": "code",
   "execution_count": 27,
   "metadata": {},
   "outputs": [
    {
     "name": "stdout",
     "output_type": "stream",
     "text": [
      "{\"sum\": 20}"
     ]
    }
   ],
   "source": [
    "!curl -X POST -d \"{\\\"a\\\":30, \\\"b\\\":-10}\" $API_URL"
   ]
  },
  {
   "cell_type": "code",
   "execution_count": 28,
   "metadata": {},
   "outputs": [
    {
     "data": {
      "text/plain": [
       "b'{\"sum\": 105}'"
      ]
     },
     "execution_count": 28,
     "metadata": {},
     "output_type": "execute_result"
    }
   ],
   "source": [
    "resp = requests.post(api_info['url'], data = json.dumps({'a': 5, 'b':100}))\n",
    "resp.content"
   ]
  },
  {
   "cell_type": "markdown",
   "metadata": {},
   "source": [
    "## Summary\n",
    "It works.  We can now create a lambda function, deploy it, and then call it via requests or curl"
   ]
  }
 ],
 "metadata": {
  "kernelspec": {
   "display_name": "Python 3",
   "language": "python",
   "name": "python3"
  },
  "language_info": {
   "codemirror_mode": {
    "name": "ipython",
    "version": 3
   },
   "file_extension": ".py",
   "mimetype": "text/x-python",
   "name": "python",
   "nbconvert_exporter": "python",
   "pygments_lexer": "ipython3",
   "version": "3.7.2"
  }
 },
 "nbformat": 4,
 "nbformat_minor": 2
}
